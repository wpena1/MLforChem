{
 "cells": [
  {
   "cell_type": "markdown",
   "metadata": {},
   "source": [
    "# 10 Pretraining on aux task "
   ]
  },
  {
   "cell_type": "code",
   "execution_count": 22,
   "metadata": {},
   "outputs": [],
   "source": [
    "from matplotlib import pyplot as plt\n",
    "%matplotlib inline\n",
    "import numpy as np\n",
    "from pathlib import Path\n",
    "import requests\n",
    "import pickle\n",
    "import gzip\n",
    "import torch\n",
    "import torch.nn.functional as F\n",
    "from torch import nn\n",
    "from torch import optim\n",
    "from torch.utils.data import TensorDataset\n",
    "from torch.utils.data import DataLoader\n"
   ]
  },
  {
   "cell_type": "code",
   "execution_count": 89,
   "metadata": {},
   "outputs": [],
   "source": [
    "import torch\n",
    "import torch.nn as nn\n",
    "import torch.nn.functional as F\n",
    "\n",
    "class DNN(nn.Module):\n",
    "    def __init__(self,n_inputs, n_hidden, n_outputs, activation):\n",
    "        super(DNN, self).__init__()\n",
    "        if type(activation) == nn.ReLU():\n",
    "            self.model = nn.Sequential(\n",
    "            nn.Linear(n_inputs, n_hidden), \n",
    "            nn.ReLU(), \n",
    "            nn.Linear(n_hidden, n_hidden), \n",
    "            nn.ReLU(), \n",
    "            nn.Linear(n_hidden, n_hidden),\n",
    "            nn.ReLU(),\n",
    "            nn.Linear(n_hidden, n_hidden),\n",
    "            nn.ReLU(),\n",
    "            nn.Linear(n_hidden, n_outputs))\n",
    "            \n",
    "        elif type(activation) == nn.LeakyReLU():\n",
    "            self.model = nn.Sequential(\n",
    "            nn.Linear(n_inputs, n_hidden), \n",
    "            nn.LeakyReLU(), \n",
    "            nn.Linear(n_hidden, n_hidden), \n",
    "            nn.LeakyReLU(), \n",
    "            nn.Linear(n_hidden, n_hidden),\n",
    "            nn.LeakyReLU(),\n",
    "            nn.Linear(n_hidden, n_hidden),\n",
    "            nn.LeakyReLU(),\n",
    "            nn.Linear(n_hidden, n_outputs))\n",
    "            \n",
    "        else:\n",
    "            self.model = nn.Sequential(\n",
    "            nn.Linear(n_inputs, n_hidden), \n",
    "            nn.ELU(), \n",
    "            nn.Linear(n_hidden, n_hidden), \n",
    "            nn.ELU(), \n",
    "            nn.Linear(n_hidden, n_hidden),\n",
    "            nn.ELU(),\n",
    "            nn.Linear(n_hidden, n_hidden),\n",
    "            nn.ELU(),\n",
    "            nn.Linear(n_hidden, n_outputs))\n",
    "    \n",
    "    def forward(self, x):\n",
    "        #x = self.model(x)\n",
    "        return self.model(x)"
   ]
  },
  {
   "cell_type": "code",
   "execution_count": 3,
   "metadata": {},
   "outputs": [],
   "source": [
    "DATA_PATH = Path(\"data\")\n",
    "PATH = DATA_PATH / \"mnist\"\n",
    "\n",
    "PATH.mkdir(parents=True, exist_ok=True)\n",
    "\n",
    "URL = \"http://deeplearning.net/data/mnist/\"\n",
    "FILENAME = \"mnist.pkl.gz\"\n",
    "if not (PATH / FILENAME).exists():\n",
    "        content = requests.get(URL + FILENAME).content\n",
    "        (PATH / FILENAME).open(\"wb\").write(content)"
   ]
  },
  {
   "cell_type": "code",
   "execution_count": 66,
   "metadata": {},
   "outputs": [],
   "source": [
    "with gzip.open((PATH / FILENAME).as_posix(), \"rb\") as f:\n",
    "        ((x_train, y_train), (x_valid, y_valid), _) = pickle.load(f, encoding=\"latin-1\")"
   ]
  },
  {
   "cell_type": "code",
   "execution_count": 8,
   "metadata": {},
   "outputs": [],
   "source": [
    "def sample_n_instances_per_class(X, y, n=100):\n",
    "    Xs, ys = [], []\n",
    "    for label in np.unique(y):\n",
    "        idx = (y == label)\n",
    "        Xc = X[idx][:n]\n",
    "        yc = y[idx][:n]\n",
    "        Xs.append(Xc)\n",
    "        ys.append(yc)\n",
    "    return np.concatenate(Xs), np.concatenate(ys)"
   ]
  },
  {
   "cell_type": "code",
   "execution_count": null,
   "metadata": {},
   "outputs": [],
   "source": [
    "def loss_batch(model, loss_func, xb, yb, opt=None):\n",
    "    loss = loss_func(model(xb), yb)\n",
    "\n",
    "    if opt is not None:\n",
    "        loss.backward()\n",
    "        opt.step()\n",
    "        opt.zero_grad()\n",
    "\n",
    "    return loss.item(), len(xb)\n",
    "\n",
    "def get_data(train_ds, valid_ds, bs):\n",
    "    return (\n",
    "        DataLoader(train_ds, batch_size=bs, shuffle=True),\n",
    "        DataLoader(valid_ds, batch_size=bs * 2),\n",
    "    )\n",
    "\n",
    "def accuracy(out, yb):\n",
    "    preds = torch.argmax(out, dim=1)\n",
    "    return (preds == yb).float().mean()\n",
    "\n",
    "def init_weights(model):\n",
    "    if type(model) == nn.Linear:\n",
    "        nn.init.kaiming_normal_(model.weight, mode='fan_out', nonlinearity='relu')\n",
    "            #print(m.weight)"
   ]
  },
  {
   "cell_type": "code",
   "execution_count": 70,
   "metadata": {},
   "outputs": [
    {
     "data": {
      "text/plain": [
       "(55000, 784)"
      ]
     },
     "execution_count": 70,
     "metadata": {},
     "output_type": "execute_result"
    }
   ],
   "source": [
    "x_train = np.concatenate((x_train,x_valid[:5000]),axis=0)\n",
    "y_train = np.concatenate((y_train,y_valid[:5000]),axis=0)\n",
    "x_valida = x_valid[:5000]\n",
    "y_valida = y_valid[:5000]\n",
    "x_train.shape"
   ]
  },
  {
   "cell_type": "markdown",
   "metadata": {},
   "source": [
    "## A"
   ]
  },
  {
   "cell_type": "code",
   "execution_count": 90,
   "metadata": {},
   "outputs": [
    {
     "data": {
      "text/plain": [
       "DNN(\n",
       "  (model): Sequential(\n",
       "    (0): Linear(in_features=784, out_features=100, bias=True)\n",
       "    (1): ELU(alpha=1.0)\n",
       "    (2): Linear(in_features=100, out_features=100, bias=True)\n",
       "    (3): ELU(alpha=1.0)\n",
       "    (4): Linear(in_features=100, out_features=100, bias=True)\n",
       "    (5): ELU(alpha=1.0)\n",
       "    (6): Linear(in_features=100, out_features=100, bias=True)\n",
       "    (7): ELU(alpha=1.0)\n",
       "    (8): Linear(in_features=100, out_features=1, bias=True)\n",
       "  )\n",
       ")"
      ]
     },
     "execution_count": 90,
     "metadata": {},
     "output_type": "execute_result"
    }
   ],
   "source": [
    "dnn1 = DNN(784,100,1,nn.ELU())\n",
    "dnn2 = DNN(784,100,1,nn.ELU())\n",
    "loss_func = F.cross_entropy\n",
    "opt1 = optim.Adam(dnn1.model.parameters(), lr = 0.01)\n",
    "opt2 = optim.Adam(dnn2.model.parameters(), lr = 0.01)\n",
    "dnn1.apply(init_weights)\n",
    "dnn2.apply(init_weights)"
   ]
  },
  {
   "cell_type": "markdown",
   "metadata": {},
   "source": [
    "## B"
   ]
  },
  {
   "cell_type": "code",
   "execution_count": 71,
   "metadata": {},
   "outputs": [
    {
     "data": {
      "text/plain": [
       "(5000, 784)"
      ]
     },
     "execution_count": 71,
     "metadata": {},
     "output_type": "execute_result"
    }
   ],
   "source": [
    "X_test = x_valid[5000:]\n",
    "y_test = y_valid[5000:]\n",
    "X_test.shape"
   ]
  },
  {
   "cell_type": "code",
   "execution_count": 18,
   "metadata": {},
   "outputs": [],
   "source": [
    "def generate_batch(images, labels, batch_size):\n",
    "    size1 = batch_size // 2\n",
    "    size2 = batch_size - size1\n",
    "    if size1 != size2 and np.random.rand() > 0.5:\n",
    "        size1, size2 = size2, size1\n",
    "    X = []\n",
    "    y = []\n",
    "    while len(X) < size1:\n",
    "        rnd_idx1, rnd_idx2 = np.random.randint(0, len(images), 2)\n",
    "        if rnd_idx1 != rnd_idx2 and labels[rnd_idx1] == labels[rnd_idx2]:\n",
    "            X.append(np.array([images[rnd_idx1], images[rnd_idx2]]))\n",
    "            y.append([1])\n",
    "    while len(X) < batch_size:\n",
    "        rnd_idx1, rnd_idx2 = np.random.randint(0, len(images), 2)\n",
    "        if labels[rnd_idx1] != labels[rnd_idx2]:\n",
    "            X.append(np.array([images[rnd_idx1], images[rnd_idx2]]))\n",
    "            y.append([0])\n",
    "    rnd_indices = np.random.permutation(batch_size)\n",
    "    return np.array(X)[rnd_indices], np.array(y)[rnd_indices]"
   ]
  },
  {
   "cell_type": "code",
   "execution_count": 19,
   "metadata": {},
   "outputs": [
    {
     "data": {
      "text/plain": [
       "((5, 2, 784), dtype('float32'))"
      ]
     },
     "execution_count": 19,
     "metadata": {},
     "output_type": "execute_result"
    }
   ],
   "source": [
    "batch_size = 5\n",
    "X_batch, y_batch = generate_batch(x_train, y_train, batch_size)\n",
    "X_batch.shape, X_batch.dtype"
   ]
  },
  {
   "cell_type": "code",
   "execution_count": 23,
   "metadata": {},
   "outputs": [
    {
     "data": {
      "image/png": "[encoded data removed]",
      "text/plain": [
       "<Figure size 216x1080 with 2 Axes>"
      ]
     },
     "metadata": {
      "needs_background": "light"
     },
     "output_type": "display_data"
    }
   ],
   "source": [
    "plt.figure(figsize=(3, 3 * batch_size))\n",
    "plt.subplot(121)\n",
    "plt.imshow(X_batch[:,0].reshape(28 * batch_size, 28), cmap=\"binary\", interpolation=\"nearest\")\n",
    "plt.axis('off')\n",
    "plt.subplot(122)\n",
    "plt.imshow(X_batch[:,1].reshape(28 * batch_size, 28), cmap=\"binary\", interpolation=\"nearest\")\n",
    "plt.axis('off')\n",
    "plt.show()"
   ]
  },
  {
   "cell_type": "code",
   "execution_count": 24,
   "metadata": {},
   "outputs": [
    {
     "data": {
      "text/plain": [
       "array([[0],\n",
       "       [1],\n",
       "       [0],\n",
       "       [1],\n",
       "       [1]])"
      ]
     },
     "execution_count": 24,
     "metadata": {},
     "output_type": "execute_result"
    }
   ],
   "source": [
    "y_batch"
   ]
  },
  {
   "cell_type": "markdown",
   "metadata": {},
   "source": [
    "## C"
   ]
  },
  {
   "cell_type": "code",
   "execution_count": 72,
   "metadata": {},
   "outputs": [
    {
     "data": {
      "text/plain": [
       "(5000, 2, 784)"
      ]
     },
     "execution_count": 72,
     "metadata": {},
     "output_type": "execute_result"
    }
   ],
   "source": [
    "X_test1, y_test1 = generate_batch(X_test, y_test, batch_size=len(X_test))\n",
    "X_test1.shape"
   ]
  },
  {
   "cell_type": "code",
   "execution_count": 74,
   "metadata": {},
   "outputs": [
    {
     "data": {
      "text/plain": [
       "torch.Size([5000, 2, 784])"
      ]
     },
     "execution_count": 74,
     "metadata": {},
     "output_type": "execute_result"
    }
   ],
   "source": [
    "X_trainb, y_trainb, X_validb, y_validb = map(\n",
    "    torch.tensor, (x_train, y_train, x_valida, y_valida)\n",
    ")\n",
    "X_testb, y_testb = map(torch.tensor,(X_test1, y_test1))\n",
    "X_testb.shape"
   ]
  },
  {
   "cell_type": "code",
   "execution_count": 91,
   "metadata": {},
   "outputs": [],
   "source": [
    "def fit_early_stop(epochs, model, loss_func, opt):\n",
    "    bs = 500\n",
    "    total = 0\n",
    "    correct = 0\n",
    "    best_loss = np.infty\n",
    "    epochs_without_progress = 0\n",
    "    running_corrects = 0.0\n",
    "    max_epochs_without_progress = 20\n",
    "    for epoch in range(epochs):\n",
    "        model.train()\n",
    "        for iteration in range(len(x_train) // bs):\n",
    "            X_batch, y_batch = generate_batch(x_train, y_train, bs)\n",
    "            xb, yb = map(torch.tensor,(X_batch,y_batch))\n",
    "            loss_batch(model, loss_func, xb, yb, opt)\n",
    "        print(\"loss\", loss_func(model(xb),yb).item())\n",
    "        model.eval()\n",
    "        if epoch % 5 == 0:\n",
    "            acc = accuracy(model(X_testb),y_testb)\n",
    "            print (\"accuracy\", acc.item())"
   ]
  },
  {
   "cell_type": "code",
   "execution_count": 92,
   "metadata": {},
   "outputs": [
    {
     "name": "stdout",
     "output_type": "stream",
     "text": [
      "loss 0.688275158405304\n",
      "accuracy 0.49540001153945923\n",
      "loss 0.6966156959533691\n",
      "loss 0.6919171810150146\n",
      "loss 0.6971263885498047\n",
      "loss 0.6919090151786804\n",
      "loss 0.7012786865234375\n",
      "accuracy 0.498199999332428\n",
      "loss 0.694689154624939\n",
      "loss 0.6951104998588562\n",
      "loss 0.692688524723053\n",
      "loss 0.6886424422264099\n",
      "loss 0.6903759241104126\n",
      "accuracy 0.501800000667572\n",
      "loss 0.6884114146232605\n",
      "loss 0.689602255821228\n",
      "loss 0.6947542428970337\n",
      "loss 0.691860020160675\n",
      "loss 0.696202278137207\n",
      "accuracy 0.49639999866485596\n",
      "loss 0.6943578720092773\n",
      "loss 0.691712498664856\n",
      "loss 0.6924166679382324\n",
      "loss 0.6921648979187012\n",
      "loss 0.6943737864494324\n",
      "accuracy 0.49480000138282776\n",
      "loss 0.6937608122825623\n",
      "loss 0.6947593092918396\n",
      "loss 0.6897279620170593\n",
      "loss 0.6939439177513123\n",
      "loss 0.6938048601150513\n",
      "accuracy 0.48820000886917114\n",
      "loss 0.6935588121414185\n",
      "loss 0.6930423378944397\n",
      "loss 0.6928695440292358\n",
      "loss 0.6913675665855408\n",
      "loss 0.6928569674491882\n",
      "accuracy 0.5013999938964844\n",
      "loss 0.6928838491439819\n",
      "loss 0.6928983330726624\n",
      "loss 0.6924355626106262\n",
      "loss 0.6927260160446167\n",
      "loss 0.6911967396736145\n",
      "accuracy 0.5091999769210815\n",
      "loss 0.6920173764228821\n",
      "loss 0.6928066611289978\n",
      "loss 0.6930188536643982\n",
      "loss 0.6927897930145264\n",
      "loss 0.6931599974632263\n",
      "accuracy 0.5049999952316284\n",
      "loss 0.6930373907089233\n",
      "loss 0.6936557292938232\n",
      "loss 0.694584846496582\n",
      "loss 0.6924148797988892\n",
      "loss 0.6931065917015076\n",
      "accuracy 0.4975999891757965\n",
      "loss 0.6928252577781677\n",
      "loss 0.6925060749053955\n",
      "loss 0.6923643946647644\n",
      "loss 0.6941899657249451\n",
      "loss 0.6931918859481812\n",
      "accuracy 0.5059999823570251\n",
      "loss 0.6920497417449951\n",
      "loss 0.6932860612869263\n",
      "loss 0.6930690407752991\n",
      "loss 0.693352222442627\n",
      "loss 0.6948789954185486\n",
      "accuracy 0.49900001287460327\n",
      "loss 0.6914846301078796\n",
      "loss 0.6931955814361572\n",
      "loss 0.6910055875778198\n",
      "loss 0.69298255443573\n",
      "loss 0.6930854916572571\n",
      "accuracy 0.4997999966144562\n",
      "loss 0.6933709383010864\n",
      "loss 0.6934865117073059\n",
      "loss 0.6931501626968384\n",
      "loss 0.6935533881187439\n",
      "loss 0.6930716633796692\n",
      "accuracy 0.49459999799728394\n",
      "loss 0.6931948065757751\n",
      "loss 0.6930967569351196\n",
      "loss 0.6938872337341309\n",
      "loss 0.6932239532470703\n",
      "loss 0.6929887533187866\n",
      "accuracy 0.5013999938964844\n",
      "loss 0.6932516098022461\n",
      "loss 0.6938449740409851\n",
      "loss 0.693013608455658\n",
      "loss 0.6931013464927673\n",
      "loss 0.6931225061416626\n",
      "accuracy 0.4973999857902527\n",
      "loss 0.6927993893623352\n",
      "loss 0.6933989524841309\n",
      "loss 0.6933780312538147\n",
      "loss 0.6933147311210632\n",
      "loss 0.6931490898132324\n",
      "accuracy 0.5016000270843506\n",
      "loss 0.6931254267692566\n",
      "loss 0.6931555867195129\n",
      "loss 0.6931504607200623\n",
      "loss 0.6932331919670105\n",
      "loss 0.6931349039077759\n",
      "accuracy 0.510200023651123\n",
      "loss 0.6931055784225464\n",
      "loss 0.6931536793708801\n",
      "loss 0.6931532621383667\n",
      "loss 0.6929226517677307\n",
      "loss 0.6930267810821533\n",
      "accuracy 0.49480000138282776\n",
      "loss 0.6929776072502136\n",
      "loss 0.6931905746459961\n",
      "loss 0.6931384205818176\n",
      "loss 0.6931626796722412\n",
      "loss 0.6932550072669983\n",
      "accuracy 0.503000020980835\n",
      "loss 0.6932075619697571\n",
      "loss 0.693172812461853\n",
      "loss 0.6931189894676208\n",
      "loss 0.6931446194648743\n"
     ]
    }
   ],
   "source": [
    "epochs = 100\n",
    "fit_early_stop(epochs,dnn1,loss_func,opt1)"
   ]
  },
  {
   "cell_type": "code",
   "execution_count": null,
   "metadata": {},
   "outputs": [],
   "source": []
  }
 ],
 "metadata": {
  "kernelspec": {
   "display_name": "rdkitenv",
   "language": "python",
   "name": "rdkitenv"
  },
  "language_info": {
   "codemirror_mode": {
    "name": "ipython",
    "version": 3
   },
   "file_extension": ".py",
   "mimetype": "text/x-python",
   "name": "python",
   "nbconvert_exporter": "python",
   "pygments_lexer": "ipython3",
   "version": "3.6.8"
  }
 },
 "nbformat": 4,
 "nbformat_minor": 2
}
